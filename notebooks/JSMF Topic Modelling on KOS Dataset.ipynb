{
 "cells": [
  {
   "cell_type": "code",
   "execution_count": 1,
   "metadata": {
    "collapsed": true
   },
   "outputs": [],
   "source": [
    "import numpy as np\n",
    "from scipy.io import loadmat\n",
    "import scipy as sp\n",
    "import scipy.sparse.linalg as spalg\n",
    "import math"
   ]
  },
  {
   "cell_type": "code",
   "execution_count": 2,
   "metadata": {
    "collapsed": false
   },
   "outputs": [
    {
     "name": "stdout",
     "output_type": "stream",
     "text": [
      "Vocabulary: 6906 words\n",
      "Done reading KOS dataset.\n",
      "Shape of X: (6906, 3430)\n"
     ]
    }
   ],
   "source": [
    "# Read KOS Dataset\n",
    "# Picked up this code from the LDA ipynb\n",
    "with open('../data/docword.kos.txt', 'r') as df:\n",
    "    num_docs = int(df.readline())\n",
    "    num_words = int(df.readline())\n",
    "    nnz = int(df.readline())\n",
    "\n",
    "    X = sp.sparse.lil_matrix((num_docs, num_words))\n",
    "\n",
    "    for l in df:\n",
    "        d, w, v = [int(x) for x in l.split()]\n",
    "        X[d-1, w-1] = v\n",
    "\n",
    "# read KOS vocabulary\n",
    "with open('../data/vocab.kos.txt', 'r') as vf:\n",
    "    vocab = tuple(vf.read().split())\n",
    "\n",
    "print(\"Vocabulary: {} words\".format(len(vocab)))\n",
    "print('Done reading KOS dataset.')\n",
    "\n",
    "\n",
    "#Converting it to a floating point\n",
    "#(Converted to CSC because the co-occurence part requires it in that format for the indices)\n",
    "# Also made it a transpose \n",
    "#(This part can be made better later)\n",
    "X = sp.sparse.csc_matrix(X.T.astype(np.float16))\n",
    "\n",
    "#Note: X is now a words by doc matrix (6906 x 3430 for KOS)\n",
    "print(\"Shape of X:\" , X.shape)\n",
    "\n"
   ]
  },
  {
   "cell_type": "code",
   "execution_count": null,
   "metadata": {
    "collapsed": false
   },
   "outputs": [
    {
     "name": "stdout",
     "output_type": "stream",
     "text": [
      "Test: Sum of C =  0.999999994563\n"
     ]
    }
   ],
   "source": [
    "# Generating Word-Word Co-Occurence\n",
    "numdocs = X.shape[1]\n",
    "vocabSize = X.shape[0]\n",
    "diag_X = np.zeros(vocabSize)\n",
    "for i in range(X.indptr.size - 1):\n",
    "    start = X.indptr[i]\n",
    "    end = X.indptr[i + 1]\n",
    "\n",
    "    Nm = np.sum(X.data[start:end])\n",
    "    row_indices = X.indices[start:end]\n",
    "    diag_X[row_indices] += X.data[start:end]/(Nm * (Nm - 1))\n",
    "    X.data[start:end] = X.data[start:end]/math.sqrt(Nm * (Nm - 1))\n",
    "    \n",
    "C = X * X.transpose()/numdocs\n",
    "C = C.todense()\n",
    "C = np.array(C, copy = False)\n",
    "diag_X = diag_X/numdocs\n",
    "C = C - np.diag(diag_X)\n",
    "\n",
    "print ('Test: Sum of C = ', np.sum(C))\n"
   ]
  },
  {
   "cell_type": "code",
   "execution_count": null,
   "metadata": {
    "collapsed": false
   },
   "outputs": [
    {
     "name": "stdout",
     "output_type": "stream",
     "text": [
      "Iteration 0\n",
      "Iteration 1\n"
     ]
    }
   ],
   "source": [
    "# Generating Rectified Co-Occurence using Dykstra's Algorithm\n",
    "\"\"\"\n",
    "Generating the Positive Semi Definite Matrix Projection\n",
    "\"\"\"\n",
    "def proj_psd(Q,k):\n",
    "    eigvals, eigvecs = spalg.eigs(Q)\n",
    "    #print(eigvals.shape, eigvecs.shape)\n",
    "    eigvals[eigvals.argsort()[:-k]] = 0\n",
    "    # eigvecs * eigvals calculation\n",
    "    MatPSD = np.einsum('ij,j->ij',eigvecs, eigvals)\n",
    "    # (eigvecs * eigvals) * eigvecs' calculation\n",
    "    MatPSD = sp.sparse.csc_matrix(MatPSD) * sp.sparse.csc_matrix(eigvecs.T)\n",
    "    return MatPSD\n",
    "\n",
    "\"\"\"\n",
    "Generating the Normalized Matrix Projection\n",
    "\"\"\"\n",
    "def proj_norm(Q):\n",
    "    #MatNorm = Q.todense()\n",
    "    MatNorm = Q + ((1 - Q.sum())/(Q.shape[0] **2))\n",
    "    return MatNorm\n",
    "\n",
    "\"\"\"\n",
    "Generating Non-Negative Matrix\n",
    "\"\"\"\n",
    "def proj_nn(Q):\n",
    "    MatNN = Q\n",
    "    MatNN[np.where(MatNN < 0)] = 0\n",
    "    return MatNN\n",
    "\n",
    "#Number of iterations\n",
    "T = 10\n",
    "#Total number of clusters\n",
    "k = 10\n",
    "\n",
    "P1 = np.zeros(C.shape)\n",
    "P2 = np.zeros(C.shape)\n",
    "P3 = np.zeros(C.shape)\n",
    "X0 = C\n",
    "for t in range(T):\n",
    "    \n",
    "    print(\"Iteration\",t)\n",
    "    \n",
    "    #Projecting to Positive Semi Definite Matrix\n",
    "    X0 = X0 + P1\n",
    "    del P1\n",
    "    X0 = sp.sparse.csc_matrix(X0)\n",
    "    X1 = proj_psd(X0,k)\n",
    "    P1 = X0 - X1\n",
    "    del X0\n",
    "    \n",
    "    #Projecting to the Normalized Matrix\n",
    "    X1 = X1 + P2\n",
    "    del P2\n",
    "    X2 = proj_norm(X1)\n",
    "    P2 = X1 - X2\n",
    "    del X1\n",
    "    \n",
    "    #Projecting to the Non Negative Matrix\n",
    "    X2 = X2 + P3\n",
    "    del P3\n",
    "    X0 = proj_nn(X2)\n",
    "    P3 = X2 - X0\n",
    "    del X2\n",
    "    \n",
    "# Rectified Co-Occurence Matrix is C_star    \n",
    "C_star = X0\n",
    "\n",
    "print(\"Test for Non-Negativity: \", np.all(C_star >= 0))\n"
   ]
  },
  {
   "cell_type": "code",
   "execution_count": null,
   "metadata": {
    "collapsed": true
   },
   "outputs": [],
   "source": []
  }
 ],
 "metadata": {
  "kernelspec": {
   "display_name": "Python 3",
   "language": "python",
   "name": "python3"
  },
  "language_info": {
   "codemirror_mode": {
    "name": "ipython",
    "version": 3
   },
   "file_extension": ".py",
   "mimetype": "text/x-python",
   "name": "python",
   "nbconvert_exporter": "python",
   "pygments_lexer": "ipython3",
   "version": "3.5.1"
  }
 },
 "nbformat": 4,
 "nbformat_minor": 0
}
