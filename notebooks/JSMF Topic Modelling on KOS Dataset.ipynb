{
 "cells": [
  {
   "cell_type": "code",
   "execution_count": 1,
   "metadata": {
    "collapsed": true
   },
   "outputs": [],
   "source": [
    "import numpy as np\n",
    "from scipy.io import loadmat\n",
    "import scipy as sp\n",
    "import scipy.sparse.linalg as spalg\n",
    "import math"
   ]
  },
  {
   "cell_type": "code",
   "execution_count": 2,
   "metadata": {
    "collapsed": false
   },
   "outputs": [
    {
     "name": "stdout",
     "output_type": "stream",
     "text": [
      "Vocabulary: 6906 words\n",
      "Done reading KOS dataset.\n",
      "Shape of X: (6906, 3430)\n"
     ]
    }
   ],
   "source": [
    "# Read KOS Dataset\n",
    "# Picked up this code from the LDA ipynb\n",
    "with open('../data/docword.kos.txt', 'r') as df:\n",
    "    num_docs = int(df.readline())\n",
    "    num_words = int(df.readline())\n",
    "    nnz = int(df.readline())\n",
    "\n",
    "    X = sp.sparse.lil_matrix((num_docs, num_words))\n",
    "\n",
    "    for l in df:\n",
    "        d, w, v = [int(x) for x in l.split()]\n",
    "        X[d-1, w-1] = v\n",
    "\n",
    "# read KOS vocabulary\n",
    "with open('../data/vocab.kos.txt', 'r') as vf:\n",
    "    vocab = tuple(vf.read().split())\n",
    "\n",
    "print(\"Vocabulary: {} words\".format(len(vocab)))\n",
    "print('Done reading KOS dataset.')\n",
    "\n",
    "\n",
    "#Converting it to a floating point\n",
    "#(Converted to CSC because the co-occurence part requires it in that format for the indices)\n",
    "# Also made it a transpose \n",
    "#(This part can be made better later)\n",
    "X = sp.sparse.csc_matrix(X.T.astype(np.float16))\n",
    "\n",
    "#Note: X is now a words by doc matrix (6906 x 3430 for KOS)\n",
    "print(\"Shape of X:\" , X.shape)\n",
    "\n"
   ]
  },
  {
   "cell_type": "code",
   "execution_count": 3,
   "metadata": {
    "collapsed": false
   },
   "outputs": [
    {
     "name": "stdout",
     "output_type": "stream",
     "text": [
      "Test: Sum of C =  0.999999994563\n"
     ]
    }
   ],
   "source": [
    "# Generating Word-Word Co-Occurence\n",
    "numdocs = X.shape[1]\n",
    "vocabSize = X.shape[0]\n",
    "diag_X = np.zeros(vocabSize)\n",
    "for i in range(X.indptr.size - 1):\n",
    "    start = X.indptr[i]\n",
    "    end = X.indptr[i + 1]\n",
    "\n",
    "    Nm = np.sum(X.data[start:end])\n",
    "    row_indices = X.indices[start:end]\n",
    "    diag_X[row_indices] += X.data[start:end]/(Nm * (Nm - 1))\n",
    "    X.data[start:end] = X.data[start:end]/math.sqrt(Nm * (Nm - 1))\n",
    "    \n",
    "C = X * X.transpose()/numdocs\n",
    "C = C.todense()\n",
    "C = np.array(C, copy = False)\n",
    "diag_X = diag_X/numdocs\n",
    "C = C - np.diag(diag_X)\n",
    "\n",
    "print ('Test: Sum of C = ', np.sum(C))\n"
   ]
  },
  {
   "cell_type": "code",
   "execution_count": 4,
   "metadata": {
    "collapsed": false
   },
   "outputs": [
    {
     "name": "stdout",
     "output_type": "stream",
     "text": [
      "Proj PSD\n",
      "Proj Norm\n"
     ]
    },
    {
     "ename": "AttributeError",
     "evalue": "module 'scipy' has no attribute 'sprase'",
     "output_type": "error",
     "traceback": [
      "\u001b[1;31m---------------------------------------------------------------------------\u001b[0m",
      "\u001b[1;31mAttributeError\u001b[0m                            Traceback (most recent call last)",
      "\u001b[1;32m<ipython-input-4-2879befe6ae3>\u001b[0m in \u001b[0;36m<module>\u001b[1;34m()\u001b[0m\n\u001b[0;32m     48\u001b[0m     \u001b[1;31m#X2 = proj_norm(X1 + P2)\u001b[0m\u001b[1;33m\u001b[0m\u001b[1;33m\u001b[0m\u001b[0m\n\u001b[0;32m     49\u001b[0m     \u001b[0mprint\u001b[0m\u001b[1;33m(\u001b[0m\u001b[1;34m\"Proj Norm\"\u001b[0m\u001b[1;33m)\u001b[0m\u001b[1;33m\u001b[0m\u001b[0m\n\u001b[1;32m---> 50\u001b[1;33m     \u001b[0mX2\u001b[0m \u001b[1;33m=\u001b[0m \u001b[0msp\u001b[0m\u001b[1;33m.\u001b[0m\u001b[0msprase\u001b[0m\u001b[1;33m.\u001b[0m\u001b[0mcsc_matrix\u001b[0m\u001b[1;33m(\u001b[0m\u001b[0mX1\u001b[0m \u001b[1;33m+\u001b[0m \u001b[0mP2\u001b[0m\u001b[1;33m)\u001b[0m\u001b[1;33m\u001b[0m\u001b[0m\n\u001b[0m\u001b[0;32m     51\u001b[0m     \u001b[0mX2\u001b[0m \u001b[1;33m=\u001b[0m \u001b[0mX2\u001b[0m \u001b[1;33m+\u001b[0m \u001b[1;33m(\u001b[0m\u001b[1;33m(\u001b[0m\u001b[1;36m1\u001b[0m \u001b[1;33m-\u001b[0m \u001b[0mX2\u001b[0m\u001b[1;33m.\u001b[0m\u001b[0msum\u001b[0m\u001b[1;33m(\u001b[0m\u001b[1;33m)\u001b[0m\u001b[1;33m)\u001b[0m\u001b[1;33m/\u001b[0m\u001b[1;33m(\u001b[0m\u001b[0mX2\u001b[0m\u001b[1;33m.\u001b[0m\u001b[0mshape\u001b[0m\u001b[1;33m[\u001b[0m\u001b[1;36m0\u001b[0m\u001b[1;33m]\u001b[0m \u001b[1;33m**\u001b[0m\u001b[1;36m2\u001b[0m\u001b[1;33m)\u001b[0m\u001b[1;33m)\u001b[0m\u001b[1;33m\u001b[0m\u001b[0m\n\u001b[0;32m     52\u001b[0m     \u001b[0mP2\u001b[0m \u001b[1;33m=\u001b[0m \u001b[0mX1\u001b[0m \u001b[1;33m+\u001b[0m \u001b[0mP2\u001b[0m \u001b[1;33m-\u001b[0m \u001b[0mX2\u001b[0m\u001b[1;33m\u001b[0m\u001b[0m\n",
      "\u001b[1;31mAttributeError\u001b[0m: module 'scipy' has no attribute 'sprase'"
     ]
    }
   ],
   "source": [
    "# Generating Rectified Co-Occurence using Dykstra's Algorithm\n",
    "\"\"\"\n",
    "Generating the Positive Semi Definite Matrix Projection\n",
    "\"\"\"\n",
    "def proj_psd(Q,k):\n",
    "    eigvals, eigvecs = spalg.eigs(Q)\n",
    "    print(eigvals.shape, eigvecs.shape)\n",
    "    eigvals[eigvals.argsort()[:-k]] = 0\n",
    "    # eigvecs * eigvals calculation\n",
    "    MatPSD = np.einsum('ij,j->ij',eigvecs, eigvals)\n",
    "    # (eigvecs * eigvals) * eigvecs' calculation\n",
    "    MatPSD = sp.sparse.csc_matrix(MatPSD) * sp.sparse.csc_matrix(eigvecs.T)\n",
    "    return MatPSD\n",
    "\n",
    "\"\"\"\n",
    "Generating the Normalized Matrix Projection\n",
    "\"\"\"\n",
    "def proj_norm(Q):\n",
    "    MatNorm = Q + ((1 - Q.sum())/(Q.shape[0] **2))\n",
    "    return MatNorm\n",
    "\n",
    "\"\"\"\n",
    "Generating Non-Negative Matrix\n",
    "\"\"\"\n",
    "def proj_nn(Q):\n",
    "    MatNN = Q\n",
    "    MatNN[np.where(MatNN < 0)] = 0\n",
    "    return MatNN\n",
    "\n",
    "#Number of iterations\n",
    "T = 10\n",
    "#Total number of clusters\n",
    "k = 10\n",
    "\n",
    "P1 = sp.sparse.csc_matrix(np.zeros(C.shape))\n",
    "P2 = sp.sparse.csc_matrix(np.zeros(C.shape))\n",
    "P3 = sp.sparse.csc_matrix(np.zeros(C.shape))\n",
    "X0 = sp.sparse.csc_matrix(C)\n",
    "for t in range(T):\n",
    "    print(\"Proj PSD\")\n",
    "    pos_eigvals,eigvecs = spalg.eigs(sp.sparse.csc_matrix(X0 + P1))\n",
    "    pos_eigvals[pos_eigvals.argsort()[:-k]] = 0\n",
    "    X1 = np.einsum('ij,j->ij',eigvecs, pos_eigvals)\n",
    "    X1 = sp.sparse.csc_matrix(X1)\n",
    "    eigvecs = sp.sparse.csc_matrix(eigvecs)\n",
    "    X1 = X1 * eigvecs.T\n",
    "    P1 = X0 + P1 - X1\n",
    "    #X2 = proj_norm(X1 + P2)\n",
    "    print(\"Proj Norm\")\n",
    "    X2 = sp.sprase.csc_matrix(X1 + P2)\n",
    "    X2 = X2 + ((1 - X2.sum())/(X2.shape[0] **2))\n",
    "    P2 = X1 + P2 - X2\n",
    "    #X0 = proj_nn(X2 + P3)\n",
    "    print(\"Proj NN\")\n",
    "    X0 = sp.sparse.csc_matrix(X2 + P3)\n",
    "    X0[np.where(X0 < 0)] = 0\n",
    "    P3 = X2 + P3 - X0\n",
    "    \n",
    "    \n",
    "# Rectified Co-Occurence is C_star    \n",
    "C_star = X0\n",
    "\n",
    "print(\"Test for Non-Negativity: \", np.all(C_star >= 0))\n",
    "print(\"Test for Normalization: \", C_star.sum())\n"
   ]
  },
  {
   "cell_type": "code",
   "execution_count": null,
   "metadata": {
    "collapsed": true
   },
   "outputs": [],
   "source": []
  }
 ],
 "metadata": {
  "kernelspec": {
   "display_name": "Python 3",
   "language": "python",
   "name": "python3"
  },
  "language_info": {
   "codemirror_mode": {
    "name": "ipython",
    "version": 3
   },
   "file_extension": ".py",
   "mimetype": "text/x-python",
   "name": "python",
   "nbconvert_exporter": "python",
   "pygments_lexer": "ipython3",
   "version": "3.5.1"
  }
 },
 "nbformat": 4,
 "nbformat_minor": 0
}
