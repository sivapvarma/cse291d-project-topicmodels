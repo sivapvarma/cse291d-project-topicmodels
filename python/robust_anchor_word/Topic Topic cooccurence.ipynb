{
 "cells": [
  {
   "cell_type": "code",
   "execution_count": 3,
   "metadata": {
    "collapsed": true
   },
   "outputs": [],
   "source": [
    "import scipy\n",
    "import scipy.io\n",
    "import numpy as np"
   ]
  },
  {
   "cell_type": "code",
   "execution_count": 5,
   "metadata": {
    "collapsed": false
   },
   "outputs": [],
   "source": [
    "R = scipy.io.loadmat('demo_robust_L2_out.nips.10.R.mat')['M']"
   ]
  },
  {
   "cell_type": "code",
   "execution_count": 6,
   "metadata": {
    "collapsed": false
   },
   "outputs": [
    {
     "name": "stdout",
     "output_type": "stream",
     "text": [
      "[[  5.59958739e-03   2.37303116e+00   0.00000000e+00   6.08329653e-01\n",
      "    4.28867196e+00   0.00000000e+00   1.01745984e-01   0.00000000e+00\n",
      "    1.32043084e-01   9.13878687e-01]\n",
      " [  4.39827781e-01   2.61665156e-03   1.11244288e-01   3.31003589e-01\n",
      "    2.11580694e-01   8.13662552e-03   8.71432272e-02   5.42675608e-03\n",
      "    1.02696948e-01   8.50565093e-02]\n",
      " [  0.00000000e+00   2.22479758e+00   2.01227760e+03   1.18788907e+00\n",
      "    1.99061705e+02   5.89539685e+01   1.26514493e+00   2.82001540e+01\n",
      "    1.39982181e+01   1.70582222e+02]\n",
      " [  1.60295794e-01   4.70583426e-01   8.44436560e-02   9.82041201e-01\n",
      "    5.12283503e-01   4.00527103e-01   4.45285088e-02   3.98527532e-01\n",
      "    4.38645388e-03   4.64846772e+00]\n",
      " [  3.55048355e+00   9.45064605e-01   4.44590722e+01   1.60950343e+00\n",
      "    3.53665475e+02   9.43884332e+00   1.23231267e+00   8.20037187e+00\n",
      "    5.11329202e+00   3.78994587e+01]\n",
      " [  0.00000000e+00   4.19786326e-02   1.52084243e+01   1.45348965e+00\n",
      "    1.09022786e+01   4.66985634e+00   4.62378210e-02   3.47050776e+00\n",
      "    7.61651906e-02   1.99053724e+01]\n",
      " [  1.36239788e-01   6.29565771e-01   4.57019746e-01   2.26277669e-01\n",
      "    1.99316349e+00   6.47471816e-02   5.58279470e-02   3.99475760e-02\n",
      "    7.99514396e-02   3.16976384e-01]\n",
      " [  0.00000000e+00   4.29111495e-02   1.11498376e+01   2.21658429e+00\n",
      "    1.45170353e+01   5.31910921e+00   4.37232875e-02   4.10263008e+00\n",
      "    3.23201842e-02   2.53556568e+01]\n",
      " [  4.10831026e-02   1.72395487e-01   1.17497420e+00   5.17938268e-03\n",
      "    1.92169072e+00   2.47822613e-02   1.85774960e-02   6.86139368e-03\n",
      "    4.87295664e-02   0.00000000e+00]\n",
      " [  1.82263466e+00   9.15249320e-01   9.17810124e+01   3.51833959e+01\n",
      "    9.13018142e+01   4.15162585e+01   4.72118803e-01   3.45045905e+01\n",
      "    0.00000000e+00   2.71009612e+02]]\n"
     ]
    }
   ],
   "source": [
    "print(R)"
   ]
  },
  {
   "cell_type": "code",
   "execution_count": 8,
   "metadata": {
    "collapsed": false
   },
   "outputs": [
    {
     "name": "stdout",
     "output_type": "stream",
     "text": [
      "<class 'numpy.ndarray'>\n"
     ]
    }
   ],
   "source": [
    "print(type(R))"
   ]
  },
  {
   "cell_type": "code",
   "execution_count": 11,
   "metadata": {
    "collapsed": false
   },
   "outputs": [
    {
     "data": {
      "text/plain": [
       "array([  8.42330012e+00,   1.38473307e+00,   2.48775170e+03,\n",
       "         7.70608490e+00,   4.66113877e+02,   5.57743107e+01,\n",
       "         3.99971699e+00,   6.27798079e+01,   3.41427361e+00,\n",
       "         5.68506686e+02])"
      ]
     },
     "execution_count": 11,
     "metadata": {},
     "output_type": "execute_result"
    }
   ],
   "source": [
    "np.sum(R, axis=1)"
   ]
  },
  {
   "cell_type": "code",
   "execution_count": 12,
   "metadata": {
    "collapsed": false
   },
   "outputs": [
    {
     "data": {
      "text/plain": [
       "0.33100358935341534"
      ]
     },
     "execution_count": 12,
     "metadata": {},
     "output_type": "execute_result"
    }
   ],
   "source": [
    "R[1, 3]"
   ]
  },
  {
   "cell_type": "code",
   "execution_count": 13,
   "metadata": {
    "collapsed": false
   },
   "outputs": [
    {
     "data": {
      "text/plain": [
       "False"
      ]
     },
     "execution_count": 13,
     "metadata": {},
     "output_type": "execute_result"
    }
   ],
   "source": [
    "np.all(R>0)"
   ]
  },
  {
   "cell_type": "code",
   "execution_count": 15,
   "metadata": {
    "collapsed": false
   },
   "outputs": [
    {
     "name": "stdout",
     "output_type": "stream",
     "text": [
      "[[ 0  1  2  3  4]\n",
      " [ 5  6  7  8  9]\n",
      " [10 11 12 13 14]\n",
      " [15 16 17 18 19]\n",
      " [20 21 22 23 24]]\n"
     ]
    }
   ],
   "source": [
    "x = np.arange(25).reshape((5, 5))\n",
    "print(x)"
   ]
  },
  {
   "cell_type": "code",
   "execution_count": 16,
   "metadata": {
    "collapsed": false
   },
   "outputs": [
    {
     "data": {
      "text/plain": [
       "False"
      ]
     },
     "execution_count": 16,
     "metadata": {},
     "output_type": "execute_result"
    }
   ],
   "source": [
    "np.all(x > 0)"
   ]
  },
  {
   "cell_type": "code",
   "execution_count": 19,
   "metadata": {
    "collapsed": false
   },
   "outputs": [
    {
     "name": "stdout",
     "output_type": "stream",
     "text": [
      "[[ 1  2  3  4  5]\n",
      " [ 6  7  8  9 10]\n",
      " [11 12 13 14 15]\n",
      " [16 17 18 19 20]\n",
      " [21 22 23 24 25]]\n"
     ]
    }
   ],
   "source": [
    "y = np.arange(1, 26).reshape((5, 5))\n",
    "print(y)"
   ]
  },
  {
   "cell_type": "code",
   "execution_count": 20,
   "metadata": {
    "collapsed": false
   },
   "outputs": [
    {
     "data": {
      "text/plain": [
       "True"
      ]
     },
     "execution_count": 20,
     "metadata": {},
     "output_type": "execute_result"
    }
   ],
   "source": [
    "np.all(y > 0)"
   ]
  },
  {
   "cell_type": "code",
   "execution_count": null,
   "metadata": {
    "collapsed": true
   },
   "outputs": [],
   "source": []
  }
 ],
 "metadata": {
  "kernelspec": {
   "display_name": "Python 3",
   "language": "python",
   "name": "python3"
  },
  "language_info": {
   "codemirror_mode": {
    "name": "ipython",
    "version": 3
   },
   "file_extension": ".py",
   "mimetype": "text/x-python",
   "name": "python",
   "nbconvert_exporter": "python",
   "pygments_lexer": "ipython3",
   "version": "3.5.1"
  }
 },
 "nbformat": 4,
 "nbformat_minor": 0
}
