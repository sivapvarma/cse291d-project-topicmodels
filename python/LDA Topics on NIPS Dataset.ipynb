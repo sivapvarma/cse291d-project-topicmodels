{
 "cells": [
  {
   "cell_type": "code",
   "execution_count": 4,
   "metadata": {
    "collapsed": true
   },
   "outputs": [],
   "source": [
    "import numpy as np\n",
    "import lda\n",
    "from scipy.io import loadmat\n",
    "import scipy\n",
    "from time import time"
   ]
  },
  {
   "cell_type": "code",
   "execution_count": 5,
   "metadata": {
    "collapsed": false
   },
   "outputs": [
    {
     "name": "stdout",
     "output_type": "stream",
     "text": [
      "Vocabulary: 12419 words\n",
      "Done reading NIPS dataset.\n"
     ]
    }
   ],
   "source": [
    "# Read NIPS Dataset\n",
    "with open('../data/docword.nips.txt', 'r') as df:\n",
    "    num_docs = int(df.readline())\n",
    "    num_words = int(df.readline())\n",
    "    nnz = int(df.readline())\n",
    "\n",
    "    X = scipy.sparse.lil_matrix((num_docs, num_words))\n",
    "\n",
    "    for l in df:\n",
    "        d, w, v = [int(x) for x in l.split()]\n",
    "        X[d-1, w-1] = v\n",
    "\n",
    "# read NIPS vocabulary\n",
    "with open('../data/vocab.nips.txt', 'r') as vf:\n",
    "    vocab = tuple(vf.read().split())\n",
    "\n",
    "print(\"Vocabulary: {} words\".format(len(vocab)))\n",
    "print('Done reading NIPS dataset.')"
   ]
  },
  {
   "cell_type": "code",
   "execution_count": 6,
   "metadata": {
    "collapsed": false
   },
   "outputs": [
    {
     "name": "stdout",
     "output_type": "stream",
     "text": [
      "Start fitting.\n",
      "Done fitting in 5.9 minutes.\n",
      "Topic 1: function algorithm vector problem learning point method space\n",
      "Topic 2: network input unit weight output training learning layer\n",
      "Topic 3: model data distribution gaussian probability parameter likelihood density\n",
      "Topic 4: circuit signal analog chip neural output system input\n",
      "Topic 5: image object images model visual motion representation field\n",
      "Topic 6: learning action algorithm policy reinforcement control system task\n",
      "Topic 7: network model system neural dynamic control recurrent learning\n",
      "Topic 8: function bound set algorithm theorem number examples learning\n",
      "Topic 9: neuron cell model input activity pattern synaptic response\n",
      "Topic 10: training recognition set speech data system word classifier\n"
     ]
    }
   ],
   "source": [
    "# LDA to find topics\n",
    "model = lda.LDA(n_topics=10, n_iter=1500, random_state=1)\n",
    "\n",
    "print('Start fitting.')\n",
    "d = time()\n",
    "model.fit(X.astype(int))  # model.fit_transform(X) is also available\n",
    "d = time() - d\n",
    "print(\"Done fitting in {:.1f} minutes.\".format(d/60))\n",
    "\n",
    "topic_word = model.topic_word_  # model.components_ also works\n",
    "n_top_words = 8\n",
    "\n",
    "for i, topic_dist in enumerate(topic_word):\n",
    "    topic_words = np.array(vocab)[np.argsort(topic_dist)][:-(n_top_words+1):-1]\n",
    "    print('Topic {}: {}'.format(i+1, ' '.join(topic_words)))"
   ]
  },
  {
   "cell_type": "code",
   "execution_count": null,
   "metadata": {
    "collapsed": true
   },
   "outputs": [],
   "source": []
  }
 ],
 "metadata": {
  "kernelspec": {
   "display_name": "Python 3",
   "language": "python",
   "name": "python3"
  },
  "language_info": {
   "codemirror_mode": {
    "name": "ipython",
    "version": 3
   },
   "file_extension": ".py",
   "mimetype": "text/x-python",
   "name": "python",
   "nbconvert_exporter": "python",
   "pygments_lexer": "ipython3",
   "version": "3.5.1"
  }
 },
 "nbformat": 4,
 "nbformat_minor": 0
}
